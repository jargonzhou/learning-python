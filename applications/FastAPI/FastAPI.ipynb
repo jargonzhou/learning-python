{
 "cells": [
  {
   "cell_type": "markdown",
   "id": "fef3c051",
   "metadata": {},
   "source": [
    "# FastAPI\n",
    "* https://fastapi.tiangolo.com/\n",
    "\n",
    "> FastAPI is a modern, fast (high-performance), web framework for building APIs with Python based on standard Python type hints.\n",
    "\n",
    "The key features are:\n",
    "\n",
    "- Fast: Very high performance, on par with NodeJS and Go (thanks to Starlette and Pydantic). One of the fastest Python frameworks available.\n",
    "- Fast to code: Increase the speed to develop features by about 200% to 300%. *\n",
    "- Fewer bugs: Reduce about 40% of human (developer) induced errors. *\n",
    "- Intuitive: Great editor support. Completion everywhere. Less time debugging.\n",
    "- Easy: Designed to be easy to use and learn. Less time reading docs.\n",
    "- Short: Minimize code duplication. Multiple features from each parameter declaration. Fewer bugs.\n",
    "- Robust: Get production-ready code. With automatic interactive documentation.\n",
    "- Standards-based: Based on (and fully compatible with) the open standards for APIs: OpenAPI (previously known as Swagger) and JSON Schema.\n",
    "\n",
    "`*` estimation based on tests on an internal development team, building production applications."
   ]
  },
  {
   "cell_type": "code",
   "execution_count": null,
   "id": "6452a782",
   "metadata": {},
   "outputs": [
    {
     "name": "stdout",
     "output_type": "stream",
     "text": [
      "Requirement already satisfied: fastapi[standard] in d:\\software\\miniconda3\\lib\\site-packages (0.116.1)\n",
      "Requirement already satisfied: starlette<0.48.0,>=0.40.0 in d:\\software\\miniconda3\\lib\\site-packages (from fastapi[standard]) (0.47.1)\n",
      "Requirement already satisfied: pydantic!=1.8,!=1.8.1,!=2.0.0,!=2.0.1,!=2.1.0,<3.0.0,>=1.7.4 in d:\\software\\miniconda3\\lib\\site-packages (from fastapi[standard]) (2.11.4)\n",
      "Requirement already satisfied: typing-extensions>=4.8.0 in d:\\software\\miniconda3\\lib\\site-packages (from fastapi[standard]) (4.12.2)\n",
      "Requirement already satisfied: fastapi-cli>=0.0.8 in d:\\software\\miniconda3\\lib\\site-packages (from fastapi-cli[standard]>=0.0.8; extra == \"standard\"->fastapi[standard]) (0.0.8)\n",
      "Requirement already satisfied: httpx>=0.23.0 in d:\\software\\miniconda3\\lib\\site-packages (from fastapi[standard]) (0.27.2)\n",
      "Collecting jinja2>=3.1.5 (from fastapi[standard])\n",
      "  Using cached jinja2-3.1.6-py3-none-any.whl.metadata (2.9 kB)\n",
      "Requirement already satisfied: python-multipart>=0.0.18 in d:\\software\\miniconda3\\lib\\site-packages (from fastapi[standard]) (0.0.20)\n",
      "Requirement already satisfied: email-validator>=2.0.0 in d:\\software\\miniconda3\\lib\\site-packages (from fastapi[standard]) (2.2.0)\n",
      "Requirement already satisfied: uvicorn>=0.12.0 in d:\\software\\miniconda3\\lib\\site-packages (from uvicorn[standard]>=0.12.0; extra == \"standard\"->fastapi[standard]) (0.35.0)\n",
      "Requirement already satisfied: dnspython>=2.0.0 in d:\\software\\miniconda3\\lib\\site-packages (from email-validator>=2.0.0->fastapi[standard]) (2.7.0)\n",
      "Requirement already satisfied: idna>=2.0.0 in d:\\software\\miniconda3\\lib\\site-packages (from email-validator>=2.0.0->fastapi[standard]) (3.7)\n",
      "Requirement already satisfied: typer>=0.15.1 in d:\\software\\miniconda3\\lib\\site-packages (from fastapi-cli>=0.0.8->fastapi-cli[standard]>=0.0.8; extra == \"standard\"->fastapi[standard]) (0.16.0)\n",
      "Requirement already satisfied: rich-toolkit>=0.14.8 in d:\\software\\miniconda3\\lib\\site-packages (from fastapi-cli>=0.0.8->fastapi-cli[standard]>=0.0.8; extra == \"standard\"->fastapi[standard]) (0.14.8)\n",
      "Requirement already satisfied: fastapi-cloud-cli>=0.1.1 in d:\\software\\miniconda3\\lib\\site-packages (from fastapi-cli[standard]>=0.0.8; extra == \"standard\"->fastapi[standard]) (0.1.4)\n",
      "Requirement already satisfied: anyio in d:\\software\\miniconda3\\lib\\site-packages (from httpx>=0.23.0->fastapi[standard]) (4.6.2.post1)\n",
      "Requirement already satisfied: certifi in d:\\software\\miniconda3\\lib\\site-packages (from httpx>=0.23.0->fastapi[standard]) (2025.1.31)\n",
      "Requirement already satisfied: httpcore==1.* in d:\\software\\miniconda3\\lib\\site-packages (from httpx>=0.23.0->fastapi[standard]) (1.0.6)\n",
      "Requirement already satisfied: sniffio in d:\\software\\miniconda3\\lib\\site-packages (from httpx>=0.23.0->fastapi[standard]) (1.3.1)\n",
      "Requirement already satisfied: h11<0.15,>=0.13 in d:\\software\\miniconda3\\lib\\site-packages (from httpcore==1.*->httpx>=0.23.0->fastapi[standard]) (0.14.0)\n",
      "Requirement already satisfied: MarkupSafe>=2.0 in d:\\software\\miniconda3\\lib\\site-packages (from jinja2>=3.1.5->fastapi[standard]) (3.0.2)\n",
      "Requirement already satisfied: annotated-types>=0.6.0 in d:\\software\\miniconda3\\lib\\site-packages (from pydantic!=1.8,!=1.8.1,!=2.0.0,!=2.0.1,!=2.1.0,<3.0.0,>=1.7.4->fastapi[standard]) (0.7.0)\n",
      "Requirement already satisfied: pydantic-core==2.33.2 in d:\\software\\miniconda3\\lib\\site-packages (from pydantic!=1.8,!=1.8.1,!=2.0.0,!=2.0.1,!=2.1.0,<3.0.0,>=1.7.4->fastapi[standard]) (2.33.2)\n",
      "Requirement already satisfied: typing-inspection>=0.4.0 in d:\\software\\miniconda3\\lib\\site-packages (from pydantic!=1.8,!=1.8.1,!=2.0.0,!=2.0.1,!=2.1.0,<3.0.0,>=1.7.4->fastapi[standard]) (0.4.0)\n",
      "Requirement already satisfied: click>=7.0 in d:\\software\\miniconda3\\lib\\site-packages (from uvicorn>=0.12.0->uvicorn[standard]>=0.12.0; extra == \"standard\"->fastapi[standard]) (8.1.7)\n",
      "Requirement already satisfied: colorama>=0.4 in d:\\software\\miniconda3\\lib\\site-packages (from uvicorn[standard]>=0.12.0; extra == \"standard\"->fastapi[standard]) (0.4.6)\n",
      "Requirement already satisfied: httptools>=0.6.3 in d:\\software\\miniconda3\\lib\\site-packages (from uvicorn[standard]>=0.12.0; extra == \"standard\"->fastapi[standard]) (0.6.4)\n",
      "Requirement already satisfied: python-dotenv>=0.13 in d:\\software\\miniconda3\\lib\\site-packages (from uvicorn[standard]>=0.12.0; extra == \"standard\"->fastapi[standard]) (1.1.0)\n",
      "Requirement already satisfied: pyyaml>=5.1 in d:\\software\\miniconda3\\lib\\site-packages (from uvicorn[standard]>=0.12.0; extra == \"standard\"->fastapi[standard]) (6.0.2)\n",
      "Requirement already satisfied: watchfiles>=0.13 in d:\\software\\miniconda3\\lib\\site-packages (from uvicorn[standard]>=0.12.0; extra == \"standard\"->fastapi[standard]) (1.1.0)\n",
      "Requirement already satisfied: websockets>=10.4 in d:\\software\\miniconda3\\lib\\site-packages (from uvicorn[standard]>=0.12.0; extra == \"standard\"->fastapi[standard]) (13.1)\n",
      "Requirement already satisfied: rignore>=0.5.1 in d:\\software\\miniconda3\\lib\\site-packages (from fastapi-cloud-cli>=0.1.1->fastapi-cli[standard]>=0.0.8; extra == \"standard\"->fastapi[standard]) (0.6.4)\n",
      "Requirement already satisfied: sentry-sdk>=2.20.0 in d:\\software\\miniconda3\\lib\\site-packages (from fastapi-cloud-cli>=0.1.1->fastapi-cli[standard]>=0.0.8; extra == \"standard\"->fastapi[standard]) (2.33.0)\n",
      "Requirement already satisfied: rich>=13.7.1 in d:\\software\\miniconda3\\lib\\site-packages (from rich-toolkit>=0.14.8->fastapi-cli>=0.0.8->fastapi-cli[standard]>=0.0.8; extra == \"standard\"->fastapi[standard]) (14.0.0)\n",
      "Requirement already satisfied: shellingham>=1.3.0 in d:\\software\\miniconda3\\lib\\site-packages (from typer>=0.15.1->fastapi-cli>=0.0.8->fastapi-cli[standard]>=0.0.8; extra == \"standard\"->fastapi[standard]) (1.5.4)\n",
      "Requirement already satisfied: markdown-it-py>=2.2.0 in d:\\software\\miniconda3\\lib\\site-packages (from rich>=13.7.1->rich-toolkit>=0.14.8->fastapi-cli>=0.0.8->fastapi-cli[standard]>=0.0.8; extra == \"standard\"->fastapi[standard]) (3.0.0)\n",
      "Requirement already satisfied: pygments<3.0.0,>=2.13.0 in d:\\software\\miniconda3\\lib\\site-packages (from rich>=13.7.1->rich-toolkit>=0.14.8->fastapi-cli>=0.0.8->fastapi-cli[standard]>=0.0.8; extra == \"standard\"->fastapi[standard]) (2.18.0)\n",
      "Requirement already satisfied: urllib3>=1.26.11 in d:\\software\\miniconda3\\lib\\site-packages (from sentry-sdk>=2.20.0->fastapi-cloud-cli>=0.1.1->fastapi-cli[standard]>=0.0.8; extra == \"standard\"->fastapi[standard]) (2.2.3)\n",
      "Requirement already satisfied: mdurl~=0.1 in d:\\software\\miniconda3\\lib\\site-packages (from markdown-it-py>=2.2.0->rich>=13.7.1->rich-toolkit>=0.14.8->fastapi-cli>=0.0.8->fastapi-cli[standard]>=0.0.8; extra == \"standard\"->fastapi[standard]) (0.1.2)\n",
      "Using cached jinja2-3.1.6-py3-none-any.whl (134 kB)\n",
      "Installing collected packages: jinja2\n",
      "  Attempting uninstall: jinja2\n",
      "    Found existing installation: jinja2 None\n"
     ]
    },
    {
     "name": "stderr",
     "output_type": "stream",
     "text": [
      "error: uninstall-no-record-file\n",
      "\n",
      "× Cannot uninstall jinja2 None\n",
      "╰─> The package's contents are unknown: no RECORD file was found for jinja2.\n",
      "\n",
      "hint: You might be able to recover from this via: pip install --force-reinstall --no-deps jinja2==3.1.4\n"
     ]
    }
   ],
   "source": [
    "# !pip install \"fastapi[standard]\""
   ]
  },
  {
   "cell_type": "code",
   "execution_count": 4,
   "id": "20c4e800",
   "metadata": {},
   "outputs": [],
   "source": [
    "# !pip install --force-reinstall --no-deps jinja2==3.1.4"
   ]
  },
  {
   "cell_type": "markdown",
   "id": "c212eb7f",
   "metadata": {},
   "source": [
    "# FastAPI CLI\n",
    "* https://fastapi.tiangolo.com/fastapi-cli/"
   ]
  },
  {
   "cell_type": "code",
   "execution_count": 8,
   "id": "2fb04a86",
   "metadata": {},
   "outputs": [
    {
     "name": "stdout",
     "output_type": "stream",
     "text": [
      "FastAPI CLI version: 0.0.8\n"
     ]
    }
   ],
   "source": [
    "!fastapi --version"
   ]
  },
  {
   "cell_type": "code",
   "execution_count": 5,
   "id": "96d2b439",
   "metadata": {},
   "outputs": [
    {
     "name": "stdout",
     "output_type": "stream",
     "text": [
      "                                                                               \n",
      " Usage: fastapi [OPTIONS] COMMAND [ARGS]...                                    \n",
      "                                                                               \n",
      " FastAPI CLI - The fastapi command line app. 😎                                \n",
      "                                                                               \n",
      " Manage your FastAPI projects, run your FastAPI apps, and more.                \n",
      "                                                                               \n",
      " Read more in the docs: https://fastapi.tiangolo.com/fastapi-cli/.             \n",
      "                                                                               \n",
      "┌─ Options ───────────────────────────────────────────────────────────────────┐\n",
      "│ --version                                 Show the version and exit.        │\n",
      "│ --verbose               --no-verbose      Enable verbose output             │\n",
      "│                                           [default: no-verbose]             │\n",
      "│ --install-completion                      Install completion for the        │\n",
      "│                                           current shell.                    │\n",
      "│ --show-completion                         Show completion for the current   │\n",
      "│                                           shell, to copy it or customize    │\n",
      "│                                           the installation.                 │\n",
      "│ --help                                    Show this message and exit.       │\n",
      "└─────────────────────────────────────────────────────────────────────────────┘\n",
      "┌─ Commands ──────────────────────────────────────────────────────────────────┐\n",
      "│ dev      Run a FastAPI app in development mode. 🧪                          │\n",
      "│ run      Run a FastAPI app in production mode. 🚀                           │\n",
      "│ deploy   Deploy a FastAPI app to FastAPI Cloud. 🚀                          │\n",
      "│ login    Login to FastAPI Cloud. 🚀                                         │\n",
      "│ logout   Logout from FastAPI Cloud. 🚀                                      │\n",
      "│ whoami                                                                      │\n",
      "│ env                                                                         │\n",
      "└─────────────────────────────────────────────────────────────────────────────┘\n",
      "\n"
     ]
    }
   ],
   "source": [
    "!fastapi --help"
   ]
  },
  {
   "cell_type": "code",
   "execution_count": 6,
   "id": "f2adaf97",
   "metadata": {},
   "outputs": [
    {
     "name": "stdout",
     "output_type": "stream",
     "text": [
      "                                                                               \n",
      " Usage: fastapi dev [OPTIONS] [PATH]                                           \n",
      "                                                                               \n",
      " Run a FastAPI app in development mode. 🧪                                     \n",
      "                                                                               \n",
      " This is equivalent to fastapi run but with reload enabled and listening on    \n",
      " the 127.0.0.1 address.                                                        \n",
      "                                                                               \n",
      " It automatically detects the Python module or package that needs to be        \n",
      " imported based on the file or directory path passed.                          \n",
      "                                                                               \n",
      " If no path is passed, it tries with:                                          \n",
      "                                                                               \n",
      " - main.py                                                                     \n",
      " - app.py                                                                      \n",
      " - api.py                                                                      \n",
      " - app/main.py                                                                 \n",
      " - app/app.py                                                                  \n",
      " - app/api.py                                                                  \n",
      "                                                                               \n",
      " It also detects the directory that needs to be added to the PYTHONPATH to     \n",
      " make the app importable and adds it.                                          \n",
      "                                                                               \n",
      " It detects the FastAPI app object to use. By default it looks in the module   \n",
      " or package for an object named:                                               \n",
      "                                                                               \n",
      " - app                                                                         \n",
      " - api                                                                         \n",
      "                                                                               \n",
      " Otherwise, it uses the first FastAPI app found in the imported module or      \n",
      " package.                                                                      \n",
      "                                                                               \n",
      "┌─ Arguments ─────────────────────────────────────────────────────────────────┐\n",
      "│   path      [PATH]  A path to a Python file or package directory (with      │\n",
      "│                     __init__.py files) containing a FastAPI app. If not     │\n",
      "│                     provided, a default set of paths will be tried.         │\n",
      "│                     [default: None]                                         │\n",
      "└─────────────────────────────────────────────────────────────────────────────┘\n",
      "┌─ Options ───────────────────────────────────────────────────────────────────┐\n",
      "│ --host                                   TEXT     The host to serve on. For │\n",
      "│                                                   local development in      │\n",
      "│                                                   localhost use 127.0.0.1.  │\n",
      "│                                                   To enable public access,  │\n",
      "│                                                   e.g. in a container, use  │\n",
      "│                                                   all the IP addresses      │\n",
      "│                                                   available with 0.0.0.0.   │\n",
      "│                                                   [default: 127.0.0.1]      │\n",
      "│ --port                                   INTEGER  The port to serve on. You │\n",
      "│                                                   would normally have a     │\n",
      "│                                                   termination proxy on top  │\n",
      "│                                                   (another program)         │\n",
      "│                                                   handling HTTPS on port    │\n",
      "│                                                   443 and HTTP on port 80,  │\n",
      "│                                                   transferring the          │\n",
      "│                                                   communication to your     │\n",
      "│                                                   app.                      │\n",
      "│                                                   [default: 8000]           │\n",
      "│ --reload           --no-reload                    Enable auto-reload of the │\n",
      "│                                                   server when (code) files  │\n",
      "│                                                   change. This is resource  │\n",
      "│                                                   intensive, use it only    │\n",
      "│                                                   during development.       │\n",
      "│                                                   [default: reload]         │\n",
      "│ --root-path                              TEXT     The root path is used to  │\n",
      "│                                                   tell your app that it is  │\n",
      "│                                                   being served to the       │\n",
      "│                                                   outside world with some   │\n",
      "│                                                   path prefix set up in     │\n",
      "│                                                   some termination proxy or │\n",
      "│                                                   similar.                  │\n",
      "│ --app                                    TEXT     The name of the variable  │\n",
      "│                                                   that contains the FastAPI │\n",
      "│                                                   app in the imported       │\n",
      "│                                                   module or package. If not │\n",
      "│                                                   provided, it is detected  │\n",
      "│                                                   automatically.            │\n",
      "│                                                   [default: None]           │\n",
      "│ --proxy-headers    --no-proxy-headers             Enable/Disable            │\n",
      "│                                                   X-Forwarded-Proto,        │\n",
      "│                                                   X-Forwarded-For,          │\n",
      "│                                                   X-Forwarded-Port to       │\n",
      "│                                                   populate remote address   │\n",
      "│                                                   info.                     │\n",
      "│                                                   [default: proxy-headers]  │\n",
      "│ --help                                            Show this message and     │\n",
      "│                                                   exit.                     │\n",
      "└─────────────────────────────────────────────────────────────────────────────┘\n",
      "\n"
     ]
    }
   ],
   "source": [
    "!fastapi dev --help"
   ]
  },
  {
   "cell_type": "markdown",
   "id": "5682bd70",
   "metadata": {},
   "source": [
    "# Example\n",
    "* https://fastapi.tiangolo.com/#example"
   ]
  },
  {
   "cell_type": "code",
   "execution_count": 14,
   "id": "b92945c8",
   "metadata": {},
   "outputs": [
    {
     "name": "stdout",
     "output_type": "stream",
     "text": [
      "d:\\workspace\\github\\learning-python\\applications\\FastAPI\\example\n"
     ]
    }
   ],
   "source": [
    "# working directory\n",
    "%cd example"
   ]
  },
  {
   "cell_type": "code",
   "execution_count": null,
   "id": "d4d082de",
   "metadata": {},
   "outputs": [],
   "source": [
    "# Run in terminal\n",
    "# !fastapi dev main.py\n",
    "\n",
    "\n",
    "#    FastAPI   Starting development server 🚀\n",
    " \n",
    "#              Searching for package file structure from directories with __init__.py files\n",
    "#              Importing from D:\\workspace\\github\\learning-python\\applications\\FastAPI\\example\n",
    " \n",
    "#     module   🐍 main.py\n",
    " \n",
    "#       code   Importing the FastAPI app object from the module with the following code:\n",
    " \n",
    "#              from main import app\n",
    " \n",
    "#        app   Using import string: main:app\n",
    " \n",
    "#     server   Server started at http://127.0.0.1:8000\n",
    "#     server   Documentation at http://127.0.0.1:8000/docs\n",
    "\n",
    "#        tip   Running in development mode, for production use: fastapi run"
   ]
  },
  {
   "cell_type": "code",
   "execution_count": 3,
   "id": "b6785d46",
   "metadata": {},
   "outputs": [
    {
     "name": "stdout",
     "output_type": "stream",
     "text": [
      "{\"item_id\":5,\"q\":\"somequery\"}\n"
     ]
    }
   ],
   "source": [
    "!curl -s http://127.0.0.1:8000/items/5?q=somequery"
   ]
  },
  {
   "cell_type": "code",
   "execution_count": 4,
   "id": "e4db4800",
   "metadata": {},
   "outputs": [],
   "source": [
    "# doc: \n",
    "# http://127.0.0.1:8000/docs\n",
    "# http://127.0.0.1:8000/redoc"
   ]
  }
 ],
 "metadata": {
  "kernelspec": {
   "display_name": "base",
   "language": "python",
   "name": "python3"
  },
  "language_info": {
   "codemirror_mode": {
    "name": "ipython",
    "version": 3
   },
   "file_extension": ".py",
   "mimetype": "text/x-python",
   "name": "python",
   "nbconvert_exporter": "python",
   "pygments_lexer": "ipython3",
   "version": "3.12.3"
  }
 },
 "nbformat": 4,
 "nbformat_minor": 5
}
