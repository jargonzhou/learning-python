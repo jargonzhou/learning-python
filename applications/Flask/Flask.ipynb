{
 "cells": [
  {
   "cell_type": "markdown",
   "metadata": {},
   "source": [
    "# Flask\n",
    "* https://flask.palletsprojects.com/en/stable/\n",
    "  * extensions: https://flask.palletsprojects.com/en/stable/extensions/\n",
    "* book: Flask Web Development, 2nd edition, 2018.\n",
    "* actions: https://github.com/jargonzhou/application-store/tree/main/testing/flask\n",
    "\n",
    "> Flask is a lightweight WSGI web application framework. It is designed to make getting started quick and easy, with the ability to scale up to complex applications.\n",
    ">\n",
    "> Flask depends on the Werkzeug WSGI toolkit, the Jinja template engine, and the Click CLI toolkit."
   ]
  },
  {
   "cell_type": "code",
   "execution_count": 1,
   "metadata": {},
   "outputs": [
    {
     "name": "stdout",
     "output_type": "stream",
     "text": [
      "Requirement already satisfied: Flask in d:\\software\\miniconda3\\lib\\site-packages (3.1.0)\n",
      "Requirement already satisfied: Werkzeug>=3.1 in d:\\software\\miniconda3\\lib\\site-packages (from Flask) (3.1.3)\n",
      "Requirement already satisfied: Jinja2>=3.1.2 in d:\\software\\miniconda3\\lib\\site-packages (from Flask) (3.1.4)\n",
      "Requirement already satisfied: itsdangerous>=2.2 in d:\\software\\miniconda3\\lib\\site-packages (from Flask) (2.2.0)\n",
      "Requirement already satisfied: click>=8.1.3 in d:\\software\\miniconda3\\lib\\site-packages (from Flask) (8.1.7)\n",
      "Requirement already satisfied: blinker>=1.9 in d:\\software\\miniconda3\\lib\\site-packages (from Flask) (1.9.0)\n",
      "Requirement already satisfied: colorama in d:\\software\\miniconda3\\lib\\site-packages (from click>=8.1.3->Flask) (0.4.6)\n",
      "Requirement already satisfied: MarkupSafe>=2.0 in d:\\software\\miniconda3\\lib\\site-packages (from Jinja2>=3.1.2->Flask) (3.0.2)\n"
     ]
    }
   ],
   "source": [
    "!pip install Flask"
   ]
  },
  {
   "cell_type": "code",
   "execution_count": null,
   "metadata": {},
   "outputs": [
    {
     "name": "stdout",
     "output_type": "stream",
     "text": [
      "3.1.0\n"
     ]
    },
    {
     "name": "stderr",
     "output_type": "stream",
     "text": [
      "C:\\Users\\zhouj\\AppData\\Local\\Temp\\ipykernel_9608\\1041682800.py:2: DeprecationWarning: The '__version__' attribute is deprecated and will be removed in Flask 3.1. Use feature detection or 'importlib.metadata.version(\"flask\")' instead.\n",
      "  print(flask.__version__)\n"
     ]
    },
    {
     "data": {
      "text/plain": [
       "'3.1.0'"
      ]
     },
     "execution_count": 5,
     "metadata": {},
     "output_type": "execute_result"
    }
   ],
   "source": [
    "# 查看版本\n",
    "import flask\n",
    "print(flask.__version__)\n",
    "\n",
    "import importlib\n",
    "importlib.metadata.version(\"flask\")"
   ]
  },
  {
   "cell_type": "code",
   "execution_count": null,
   "metadata": {},
   "outputs": [],
   "source": [
    "# cleanup\n",
    "!pip uninstall Flask -y"
   ]
  },
  {
   "cell_type": "markdown",
   "metadata": {},
   "source": [
    "# Quickstart"
   ]
  },
  {
   "cell_type": "code",
   "execution_count": null,
   "metadata": {},
   "outputs": [
    {
     "name": "stdout",
     "output_type": "stream",
     "text": [
      " * Serving Flask app '__main__'\n",
      " * Debug mode: off\n"
     ]
    },
    {
     "name": "stderr",
     "output_type": "stream",
     "text": [
      "WARNING: This is a development server. Do not use it in a production deployment. Use a production WSGI server instead.\n",
      " * Running on all addresses (0.0.0.0)\n",
      " * Running on http://127.0.0.1:15000\n",
      " * Running on http://192.168.0.100:15000\n",
      "Press CTRL+C to quit\n"
     ]
    },
    {
     "ename": "",
     "evalue": "",
     "output_type": "error",
     "traceback": [
      "\u001b[1;31mThe Kernel crashed while executing code in the current cell or a previous cell. \n",
      "\u001b[1;31mPlease review the code in the cell(s) to identify a possible cause of the failure. \n",
      "\u001b[1;31mClick <a href='https://aka.ms/vscodeJupyterKernelCrash'>here</a> for more info. \n",
      "\u001b[1;31mView Jupyter <a href='command:jupyter.viewOutput'>log</a> for further details."
     ]
    }
   ],
   "source": [
    "from flask import Flask\n",
    "\n",
    "app = Flask(__name__)\n",
    "# app = Flask(\"hello\")\n",
    "\n",
    "\n",
    "@app.route(\"/\")\n",
    "def hello_world():\n",
    "    return \"<p>Hello, World!</p>\"\n",
    "\n",
    "# response with JSON\n",
    "\n",
    "\n",
    "@app.route(\"/user\")\n",
    "def get_user():\n",
    "    return {\n",
    "        'name': 'Example User',\n",
    "        'age': 28\n",
    "    }\n",
    "\n",
    "\n",
    "app.run(host='0.0.0.0', port=15000, debug=False)"
   ]
  },
  {
   "cell_type": "code",
   "execution_count": 2,
   "metadata": {},
   "outputs": [
    {
     "name": "stdout",
     "output_type": "stream",
     "text": [
      "Usage: flask run [OPTIONS]\n",
      "\n",
      "  Run a local development server.\n",
      "\n",
      "  This server is for development purposes only. It does not provide the\n",
      "  stability, security, or performance of production WSGI servers.\n",
      "\n",
      "  The reloader and debugger are enabled by default with the '--debug' option.\n",
      "\n",
      "Options:\n",
      "  --debug / --no-debug            Set debug mode.\n",
      "  -h, --host TEXT                 The interface to bind to.\n",
      "  -p, --port INTEGER              The port to bind to.\n",
      "  --cert PATH                     Specify a certificate file to use HTTPS.\n",
      "  --key FILE                      The key file to use when specifying a\n",
      "                                  certificate.\n",
      "  --reload / --no-reload          Enable or disable the reloader. By default\n",
      "                                  the reloader is active if debug is enabled.\n",
      "  --debugger / --no-debugger      Enable or disable the debugger. By default\n",
      "                                  the debugger is active if debug is enabled.\n",
      "  --with-threads / --without-threads\n",
      "                                  Enable or disable multithreading.\n",
      "  --extra-files PATH              Extra files that trigger a reload on change.\n",
      "                                  Multiple paths are separated by ';'.\n",
      "  --exclude-patterns PATH         Files matching these fnmatch patterns will\n",
      "                                  not trigger a reload on change. Multiple\n",
      "                                  patterns are separated by ';'.\n",
      "  --help                          Show this message and exit.\n"
     ]
    }
   ],
   "source": [
    "!flask run --help"
   ]
  },
  {
   "cell_type": "code",
   "execution_count": 1,
   "metadata": {},
   "outputs": [
    {
     "name": "stdout",
     "output_type": "stream",
     "text": [
      "^C\n"
     ]
    }
   ],
   "source": [
    "# or use hello.py\n",
    "\n",
    "# WARN: Interrupt not means stop!!! run in shell instead.\n",
    "\n",
    "# !flask --app hello run\n",
    "# !python -m flask --app hello run\n",
    "\n",
    "!flask --app hello run --debug --port 15000"
   ]
  },
  {
   "cell_type": "markdown",
   "metadata": {},
   "source": [
    "# Concepts"
   ]
  },
  {
   "cell_type": "markdown",
   "metadata": {},
   "source": [
    "- app: `app = Flask(__name__)`\n",
    "- route: `@app.route(...)`, `app.add_url_rule(...)`\n",
    "  - dynamic route: `/<name>`\n",
    "- development server: `flask run`, `app.run()`\n",
    "- debug mode: reloader, debugger `FLASK_DEBUG=1`\n",
    "- request-response cycle\n",
    "  - context globals: `current_app`, `g`, `request`, `session` - `app.app_context()`\n",
    "  - request dispatching: `app.url_map`\n",
    "  - request object: `form`, `args`, `headers`, ...\n",
    "  - request hooks: `before_request`, `before_first_request`, `after_request`, `teardown_request`\n",
    "  - response: `string`, status code, headers\n",
    "    - `make_response(...)`\n",
    "    - `redirect`\n",
    "    - `abort`\n",
    "- extensions: database, user authentication "
   ]
  },
  {
   "cell_type": "markdown",
   "metadata": {},
   "source": [
    "template: Jinja2\n",
    "- variable: `{{ name }}`\n",
    "  - filters: `{{ name | lower}}`\n",
    "- `render_template(...)`\n",
    "- control structures\n",
    "  - `{% if %} {% else %} {% endif %}`\n",
    "  - `{% for ... in ... %} {% endfor %}`\n",
    "  - `{% macro %} {% endmacro %}`\n",
    "  - `{% import ... as ... %}`\n",
    "  - `{% include ... %}`\n",
    "  - template inheritance: `{% block ... %} {% endblock %}`, `{% extends %}`\n",
    "\n",
    "Flask-Bootstrap\n",
    "\n",
    "links: `url_for(...)`\n",
    "\n",
    "static files: `/static` folder\n",
    "\n",
    "Flask-Moment: localization of data and times"
   ]
  },
  {
   "cell_type": "markdown",
   "metadata": {},
   "source": [
    "Web Form:\n",
    "- `request.form`\n",
    "- Flask-WTF\n",
    "  - `app.config['KEY']=VALUE`\n",
    "  - `FlaskForm`, fields, validators\n",
    "\n",
    "message flashing:\n",
    "- `flash()`\n",
    "- `get_flashed_messages()` in templates"
   ]
  },
  {
   "cell_type": "markdown",
   "metadata": {},
   "source": [
    "Databases\n",
    "- Flask-SQLAlchemy\n",
    "\n",
    "relationship:\n",
    "- one-to-many\n",
    "- one-to-one\n",
    "- many-to-one\n",
    "- many-to-many\n",
    "- `db.ForeignKey(...)`, `db.relationship(...)`\n",
    "\n",
    "`db.session`\n",
    "- `add(...)`: insert, update\n",
    "- `add_all(...)`\n",
    "- `commit()`, `rollback()`\n",
    "- `delete(...)`\n",
    "\n",
    "`<ModelClass>.query`\n",
    "- `all()`, `first()`\n",
    "- `filter_by(...)`\n",
    "\n",
    "Flask-Migrate: wrapper on Alembic\n",
    "- migration script\n",
    "- functions: `upgrade()`, `downgrade()`\n",
    "- command: manually `revision`, automatically `migrate`\n",
    "- apply command: `upgrade`"
   ]
  },
  {
   "cell_type": "markdown",
   "metadata": {},
   "source": [
    "Flask-Mail\n",
    "- `smtplib`: SMTP(Simple Mail Transfer Protocol)\n",
    "- `Mail`, `Message`"
   ]
  },
  {
   "cell_type": "markdown",
   "metadata": {},
   "source": [
    "# example_app"
   ]
  },
  {
   "cell_type": "markdown",
   "metadata": {},
   "source": [
    "- 配置选项: `Config`\n",
    "- 应用包: 应用工厂`create_app(config_name)`\n",
    "  - 单脚本应用\n",
    "  - blueprint: 类似于应用, 但可以定义路由和错误处理器. 需要注册到应用中.\n",
    "- 应用脚本: \n",
    "  - 定义应用实例`app`\n",
    "  - 定义数据迁移\n",
    "  - 定义`flask shell`脚本上下文处理器: `@app.shell_context_processor`, 注入`db`等 \n",
    "  - 定义命令行命令: `@app.cli.command()`, 例如执行单元测试`test`\n",
    "- 单元测试: `unittest` \n",
    "- 数据库设置: 使用Flask-Migrate\n",
    "- 运行应用: `flask run`"
   ]
  },
  {
   "cell_type": "markdown",
   "metadata": {},
   "source": [
    "程序结构: P.85\n",
    "\n",
    "```shell\n",
    "|-- README.md\n",
    "|-- app                       应用目录\n",
    "|   |-- __init__.py\n",
    "|   |-- email.py              邮件工具\n",
    "|   |-- main                  main blueprint\n",
    "|   |   |-- __init__.py       \n",
    "|   |   |-- errors.py           错误处理器\n",
    "|   |   |-- forms.py            表单\n",
    "|   |   `-- views.py            视图/路由\n",
    "|   |-- models.py             模型\n",
    "|   |-- static                静态资源\n",
    "|   |   |-- favicon.ico\n",
    "|   |   `-- style.css\n",
    "|   `-- templates             模板\n",
    "|       |-- 404.html\n",
    "|       |-- base.html\n",
    "|       |-- index.html\n",
    "|       `-- user.html\n",
    "|-- config.py                  配置\n",
    "|-- data-dev.sqlite            sqlite文件\n",
    "|-- main.py                    入口\n",
    "|-- migrations                 数据库迁移脚本目录\n",
    "|-- requirements.txt\n",
    "`-- tests                      单元测试\n",
    "    |-- __init__.py\n",
    "    `-- test_basics.py\n",
    "```"
   ]
  },
  {
   "cell_type": "markdown",
   "metadata": {},
   "source": [
    "features:\n",
    "- user authentication\n",
    "- user roles\n",
    "- user profiles\n",
    "- blog posts\n",
    "- followers\n",
    "- user commments"
   ]
  },
  {
   "cell_type": "markdown",
   "metadata": {},
   "source": [
    "## user authentication"
   ]
  },
  {
   "cell_type": "markdown",
   "metadata": {},
   "source": [
    "Flask authentication extension:\n",
    "- Flask-Login                                                    <--\n",
    "- [Werkzeug](https://werkzeug.palletsprojects.com/)              <-- \n",
    "- itsdangerous\n",
    "\n",
    "> Werkzeug is a comprehensive WSGI web application library. It began as a simple collection of various utilities for WSGI applications and has become one of the most advanced WSGI utility libraries.\n",
    ">\n",
    "> Werkzeug doesn’t enforce any dependencies. It is up to the developer to choose a template engine, database adapter, and even how to handle requests.\n",
    "\n",
    "\n",
    "模拟创建用户\n",
    "```shell\n",
    "$ flask shell\n",
    "Python 3.12.3 | packaged by conda-forge | (main, Apr 15 2024, 18:20:11) [MSC v.1938 64 bit (AMD64)] on win32\n",
    "App: app\n",
    "Instance: D:\\workspace\\github\\workbench\\Python\\applications\\Flask\\example_app\\instance\n",
    ">>> u = User(email='a@example.com', username='john', password='123')\n",
    ">>> db.session.add(u)\n",
    ">>> db.session.commit()\n",
    ">>> User.query.filter_by(email='a@example.com').first()\n",
    "<User 'john'>\n",
    "```\n",
    "\n",
    "Flask-Login\n",
    "- `UserMixin`\n",
    "- `LoginManager`\n",
    "- `@login_required`\n",
    "- `current_user`: used in template\n",
    "- `login_user()`, `logout_user()`"
   ]
  },
  {
   "cell_type": "markdown",
   "metadata": {},
   "source": [
    "## user roles"
   ]
  },
  {
   "cell_type": "markdown",
   "metadata": {},
   "source": [
    "## user profiles"
   ]
  },
  {
   "cell_type": "markdown",
   "metadata": {},
   "source": [
    "## blog posts"
   ]
  },
  {
   "cell_type": "markdown",
   "metadata": {},
   "source": [
    "## followers"
   ]
  },
  {
   "cell_type": "markdown",
   "metadata": {},
   "source": [
    "## user commments"
   ]
  }
 ],
 "metadata": {
  "kernelspec": {
   "display_name": "base",
   "language": "python",
   "name": "python3"
  },
  "language_info": {
   "codemirror_mode": {
    "name": "ipython",
    "version": 3
   },
   "file_extension": ".py",
   "mimetype": "text/x-python",
   "name": "python",
   "nbconvert_exporter": "python",
   "pygments_lexer": "ipython3",
   "version": "3.12.3"
  }
 },
 "nbformat": 4,
 "nbformat_minor": 2
}
